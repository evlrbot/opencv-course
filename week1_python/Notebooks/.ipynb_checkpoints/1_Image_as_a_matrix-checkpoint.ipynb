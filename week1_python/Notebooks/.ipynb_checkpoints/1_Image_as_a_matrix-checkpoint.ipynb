{
 "cells": [
  {
   "cell_type": "markdown",
   "metadata": {},
   "source": [
    "# <font style=\"color:rgb(50,120,229)\">Overview </font>\n",
    "\n",
    "We have already discussed about how an image is formed and how it is stored. In this module, we will dive into the code and check out what are the functions available in OpenCV for manipulating images.\n",
    "\n",
    "We will cover the following:\n",
    "1. Image I/O - Read, Write & Display an image\n",
    "2. Image Properties - color, channels, shape, image structure\n",
    "3. Creating new images, accessing pixels and region of interest (ROI)"
   ]
  },
  {
   "cell_type": "markdown",
   "metadata": {},
   "source": [
    "# <font style=\"color:rgb(50,120,229)\">Import Libraries</font>"
   ]
  },
  {
   "cell_type": "code",
   "execution_count": 5,
   "metadata": {},
   "outputs": [
    {
     "ename": "ModuleNotFoundError",
     "evalue": "No module named 'cv2'",
     "output_type": "error",
     "traceback": [
      "\u001b[31m---------------------------------------------------------------------------\u001b[39m",
      "\u001b[31mModuleNotFoundError\u001b[39m                       Traceback (most recent call last)",
      "\u001b[36mCell\u001b[39m\u001b[36m \u001b[39m\u001b[32mIn[5]\u001b[39m\u001b[32m, line 2\u001b[39m\n\u001b[32m      1\u001b[39m \u001b[38;5;66;03m# Import libraries\u001b[39;00m\n\u001b[32m----> \u001b[39m\u001b[32m2\u001b[39m \u001b[38;5;28;01mimport\u001b[39;00m\u001b[38;5;250m \u001b[39m\u001b[34;01mcv2\u001b[39;00m\n\u001b[32m      3\u001b[39m \u001b[38;5;28;01mimport\u001b[39;00m\u001b[38;5;250m \u001b[39m\u001b[34;01mnumpy\u001b[39;00m\u001b[38;5;250m \u001b[39m\u001b[38;5;28;01mas\u001b[39;00m\u001b[38;5;250m \u001b[39m\u001b[34;01mnp\u001b[39;00m\n\u001b[32m      4\u001b[39m \u001b[38;5;28;01mfrom\u001b[39;00m\u001b[38;5;250m \u001b[39m\u001b[34;01mdataPath\u001b[39;00m\u001b[38;5;250m \u001b[39m\u001b[38;5;28;01mimport\u001b[39;00m DATA_PATH\n",
      "\u001b[31mModuleNotFoundError\u001b[39m: No module named 'cv2'"
     ]
    }
   ],
   "source": [
    "# Import libraries\n",
    "import cv2\n",
    "import numpy as np\n",
    "from dataPath import DATA_PATH\n",
    "import matplotlib.pyplot as plt\n",
    "%matplotlib inline"
   ]
  },
  {
   "cell_type": "code",
   "execution_count": 3,
   "metadata": {
    "editable": true,
    "slideshow": {
     "slide_type": ""
    },
    "tags": []
   },
   "outputs": [
    {
     "ename": "ModuleNotFoundError",
     "evalue": "No module named 'matplotlib'",
     "output_type": "error",
     "traceback": [
      "\u001b[31m---------------------------------------------------------------------------\u001b[39m",
      "\u001b[31mModuleNotFoundError\u001b[39m                       Traceback (most recent call last)",
      "\u001b[36mCell\u001b[39m\u001b[36m \u001b[39m\u001b[32mIn[3]\u001b[39m\u001b[32m, line 1\u001b[39m\n\u001b[32m----> \u001b[39m\u001b[32m1\u001b[39m \u001b[38;5;28;01mimport\u001b[39;00m\u001b[38;5;250m \u001b[39m\u001b[34;01mmatplotlib\u001b[39;00m\n\u001b[32m      2\u001b[39m matplotlib.rcParams[\u001b[33m'\u001b[39m\u001b[33mfigure.figsize\u001b[39m\u001b[33m'\u001b[39m] = (\u001b[32m6.0\u001b[39m, \u001b[32m6.0\u001b[39m)\n\u001b[32m      3\u001b[39m matplotlib.rcParams[\u001b[33m'\u001b[39m\u001b[33mimage.cmap\u001b[39m\u001b[33m'\u001b[39m] = \u001b[33m'\u001b[39m\u001b[33mgray\u001b[39m\u001b[33m'\u001b[39m\n",
      "\u001b[31mModuleNotFoundError\u001b[39m: No module named 'matplotlib'"
     ]
    }
   ],
   "source": [
    "import matplotlib\n",
    "matplotlib.rcParams['figure.figsize'] = (6.0, 6.0)\n",
    "matplotlib.rcParams['image.cmap'] = 'gray'"
   ]
  },
  {
   "cell_type": "markdown",
   "metadata": {},
   "source": [
    "# <font style=\"color:rgb(50,120,229)\">Reading an Image</font>\n",
    "OpenCV allows reading different types of images (JPG, PNG, etc). You can load grayscale images colour images or you can also load images with Alpha channel (Alpha channel will be discussed in a later section). It uses the [**`imread`**](https://docs.opencv.org/4.1.0/d4/da8/group__imgcodecs.html#ga288b8b3da0892bd651fce07b3bbd3a56) function which has the following syntax:\n",
    "\n",
    "### <font style=\"color:rgb(8,133,37)\">Function Syntax </font>\n",
    "``` python\n",
    "retval\t=\tcv2.imread(\tfilename[, flags]\t)\n",
    "```\n",
    "\n",
    "It has **2 arguments**:\n",
    "\n",
    "1. `retval` is the image if it is successfully loaded. Otherwise it is `None`. This may happen if the filename is wrong or the file is corrupt.\n",
    "2. `Path of the image file`: This can be an **absolute** or **relative** path. This is a **mandatory argument**.\n",
    "3. `Flags`: These flags are used to read an image in a particular format (for example, grayscale/color/with alpha channel). This is an **optional argument** with a default value of `cv2.IMREAD_COLOR` or `1` which loads the image as a color image.\n",
    "\n",
    "Before we proceed with some examples, let's also have a look at the `flags` available.\n",
    "\n",
    "**Flags**\n",
    "1. **`cv2.IMREAD_GRAYSCALE`** or **`0`**: Loads image in grayscale mode\n",
    "2. **`cv2.IMREAD_COLOR`** or **`1`**: Loads a color image. Any transparency of image will be neglected. It is the default flag.\n",
    "3. **`cv2.IMREAD_UNCHANGED`** or **`-1`**: Loads image as such including alpha channel.\n"
   ]
  },
  {
   "cell_type": "markdown",
   "metadata": {},
   "source": [
    "Let us load this image and discuss further\n",
    "<img src=\"https://www.dropbox.com/s/ed0r779b052o0s2/number_zero.jpg?dl=1\" width=100>"
   ]
  },
  {
   "cell_type": "code",
   "execution_count": 1,
   "metadata": {},
   "outputs": [
    {
     "ename": "NameError",
     "evalue": "name 'DATA_PATH' is not defined",
     "output_type": "error",
     "traceback": [
      "\u001b[31m---------------------------------------------------------------------------\u001b[39m",
      "\u001b[31mNameError\u001b[39m                                 Traceback (most recent call last)",
      "\u001b[36mCell\u001b[39m\u001b[36m \u001b[39m\u001b[32mIn[1]\u001b[39m\u001b[32m, line 1\u001b[39m\n\u001b[32m----> \u001b[39m\u001b[32m1\u001b[39m imagePath = \u001b[43mDATA_PATH\u001b[49m + \u001b[33m\"\u001b[39m\u001b[33m/images/number_zero.jpg\u001b[39m\u001b[33m\"\u001b[39m\n\u001b[32m      3\u001b[39m \u001b[38;5;66;03m# Read image in Grayscale format\u001b[39;00m\n\u001b[32m      4\u001b[39m testImage = cv2.imread(imagePath,\u001b[32m0\u001b[39m)\n",
      "\u001b[31mNameError\u001b[39m: name 'DATA_PATH' is not defined"
     ]
    }
   ],
   "source": [
    "imagePath = DATA_PATH + \"/images/number_zero.jpg\"\n",
    "\n",
    "# Read image in Grayscale format\n",
    "testImage = cv2.imread(imagePath,0)\n",
    "print(testImage)"
   ]
  },
  {
   "cell_type": "markdown",
   "metadata": {},
   "source": [
    "We print the 2-dimensional array to see what the image is. You can make out that the image signifies a `0`. "
   ]
  },
  {
   "cell_type": "markdown",
   "metadata": {},
   "source": [
    "## <font style=\"color:rgb(50,120,229)\">Intensity </font>\n",
    "The values printed above are the intensity values of each pixel. \n",
    "\n",
    "**0 means black pixel and as the value increases, it moves towards white. A value of 255 is a white pixel.**"
   ]
  },
  {
   "cell_type": "markdown",
   "metadata": {},
   "source": [
    "## <font style=\"color:rgb(50,120,229)\">Image Properties</font>"
   ]
  },
  {
   "cell_type": "code",
   "execution_count": 4,
   "metadata": {},
   "outputs": [
    {
     "name": "stdout",
     "output_type": "stream",
     "text": [
      "Data type = uint8\n",
      "\n",
      "Object type = <class 'numpy.ndarray'>\n",
      "\n",
      "Image Dimensions = (13, 11)\n",
      "\n"
     ]
    }
   ],
   "source": [
    "print(\"Data type = {}\\n\".format(testImage.dtype))\n",
    "print(\"Object type = {}\\n\".format(type(testImage)))\n",
    "print(\"Image Dimensions = {}\\n\".format(testImage.shape))"
   ]
  },
  {
   "cell_type": "markdown",
   "metadata": {},
   "source": [
    "The following observations can be made:\n",
    "1. The datatype of the loaded image is **unsigned int and the depth is 8 bit**\n",
    "1. The image is just a 2-dimesional numpy array with values ranging from **0 to 255**.\n",
    "1. The size or resolution is **13x11** which means **height=13 and witdh=11**. In other words, it has **13 rows and 11 columns**.\n"
   ]
  },
  {
   "cell_type": "markdown",
   "metadata": {},
   "source": [
    "#### <font style=\"color:rgb(200,0,0)\">NOTE</font>\n",
    "It should be kept in mind that in OpenCV, size is represented as a tuple of `widthxheight` or `#columnsX#rows`. But in numpy, the shape method returns size as a tuple of `heightxwidth`."
   ]
  }
 ],
 "metadata": {
  "kernelspec": {
   "display_name": "Python 3 (ipykernel)",
   "language": "python",
   "name": "python3"
  },
  "language_info": {
   "codemirror_mode": {
    "name": "ipython",
    "version": 3
   },
   "file_extension": ".py",
   "mimetype": "text/x-python",
   "name": "python",
   "nbconvert_exporter": "python",
   "pygments_lexer": "ipython3",
   "version": "3.13.7"
  }
 },
 "nbformat": 4,
 "nbformat_minor": 4
}
